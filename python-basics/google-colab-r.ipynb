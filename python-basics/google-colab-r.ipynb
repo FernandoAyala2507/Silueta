{
  "cells": [
    {
      "cell_type": "markdown",
      "metadata": {
        "id": "LStXeu8YCOKH"
      },
      "source": [
        "# Google Colab R\n",
        "\n",
        "- Google is now supporting a Colab notebook with the R kernel\n",
        "- We can run R codes directly on Colab\n",
        "- R Colab Notebook Link: [R Google Colab](https://colab.fan/r)\n",
        "    - Colab with R kernel\n",
        "    - With base-R installed\n",
        "    - Run R codes immediately\n",
        "    - No need to setup\n",
        "    - Save a copy in your Drive\n"
      ]
    },
    {
      "cell_type": "markdown",
      "metadata": {
        "id": "ulMUMuk0tYlA"
      },
      "source": [
        "## Demonstration\n",
        "\n",
        "This notebook uses the R kernel.\n"
      ]
    },
    {
      "cell_type": "code",
      "source": [
        "# Cambia el entorno de ejecución a R\n",
        "install.packages('IRkernel')\n",
        "IRkernel::installspec(user = FALSE)"
      ],
      "metadata": {
        "colab": {
          "base_uri": "https://localhost:8080/"
        },
        "id": "XWqOWbU6tafq",
        "outputId": "f00ba3ff-7bca-4b9e-db6c-a27798cc4564"
      },
      "execution_count": 1,
      "outputs": [
        {
          "output_type": "stream",
          "name": "stderr",
          "text": [
            "Installing package into ‘/usr/local/lib/R/site-library’\n",
            "(as ‘lib’ is unspecified)\n",
            "\n"
          ]
        }
      ]
    },
    {
      "cell_type": "code",
      "source": [
        "print(\"¡Hola desde R en Google Colab!\")"
      ],
      "metadata": {
        "id": "4WTPmdQdt0GA",
        "outputId": "05ab7bec-e3d3-4e42-ed19-545c2984a221",
        "colab": {
          "base_uri": "https://localhost:8080/"
        }
      },
      "execution_count": 2,
      "outputs": [
        {
          "output_type": "stream",
          "name": "stdout",
          "text": [
            "[1] \"¡Hola desde R en Google Colab!\"\n"
          ]
        }
      ]
    },
    {
      "cell_type": "code",
      "source": [
        "# Ubicamos la ruta donde guardaremos los archivos de trabajo\n",
        "setwd(\"//Pccumplimiento/GERENCIA DE CUMPLIMIENTO/AREA DE PREVENCION Y CUMPLIMIENTO/BFP/24. Normas Cumplimiento/20. Segmentacion de Mercado/Bases_Pichincha_2024/3_Proceso_de_Segmentacion/7_Determinacion_clusters/2. Indice_de_ Silueta\")"
      ],
      "metadata": {
        "id": "BZsB5GfjvN3z",
        "outputId": "1d6e95fd-6259-4f34-f894-271671270e08",
        "colab": {
          "base_uri": "https://localhost:8080/",
          "height": 315
        }
      },
      "execution_count": 3,
      "outputs": [
        {
          "output_type": "error",
          "ename": "ERROR",
          "evalue": "Error in setwd(\"//Pccumplimiento/GERENCIA DE CUMPLIMIENTO/AREA DE PREVENCION Y CUMPLIMIENTO/BFP/24. Normas Cumplimiento/20. Segmentacion de Mercado/Bases_Pichincha_2024/3_Proceso_de_Segmentacion/7_Determinacion_clusters/2. Indice_de_ Silueta\"): cannot change working directory\n",
          "traceback": [
            "Error in setwd(\"//Pccumplimiento/GERENCIA DE CUMPLIMIENTO/AREA DE PREVENCION Y CUMPLIMIENTO/BFP/24. Normas Cumplimiento/20. Segmentacion de Mercado/Bases_Pichincha_2024/3_Proceso_de_Segmentacion/7_Determinacion_clusters/2. Indice_de_ Silueta\"): cannot change working directory\nTraceback:\n",
            "1. .handleSimpleError(function (cnd) \n . {\n .     watcher$capture_plot_and_output()\n .     cnd <- sanitize_call(cnd)\n .     watcher$push(cnd)\n .     switch(on_error, continue = invokeRestart(\"eval_continue\"), \n .         stop = invokeRestart(\"eval_stop\"), error = NULL)\n . }, \"cannot change working directory\", base::quote(setwd(\"//Pccumplimiento/GERENCIA DE CUMPLIMIENTO/AREA DE PREVENCION Y CUMPLIMIENTO/BFP/24. Normas Cumplimiento/20. Segmentacion de Mercado/Bases_Pichincha_2024/3_Proceso_de_Segmentacion/7_Determinacion_clusters/2. Indice_de_ Silueta\")))"
          ]
        }
      ]
    },
    {
      "cell_type": "code",
      "source": [
        "# Cargar la librería 'readxl' si no la tienes instalada\n",
        "install.packages(\"readxl\")\n",
        "\n",
        "# Cargar la librería\n",
        "library(readxl)"
      ],
      "metadata": {
        "id": "4R-I4j-e3a8Z",
        "outputId": "2e714b61-61a0-4fa0-99e0-baa138ac4f5d",
        "colab": {
          "base_uri": "https://localhost:8080/"
        }
      },
      "execution_count": 7,
      "outputs": [
        {
          "output_type": "stream",
          "name": "stderr",
          "text": [
            "Installing package into ‘/usr/local/lib/R/site-library’\n",
            "(as ‘lib’ is unspecified)\n",
            "\n"
          ]
        }
      ]
    },
    {
      "cell_type": "code",
      "source": [
        "# URL del archivo en GitHub (usa el enlace \"Raw\" que copiaste previamente)\n",
        "url <- \"https://raw.githubusercontent.com/FernandoAyala2507/Silueta/main/PERSONAS.xlsx\"\n",
        "\n",
        "# Descargar el archivo a tu entorno de Colab\n",
        "download.file(url, destfile = \"PERSONAS.xlsx\", mode = \"wb\")"
      ],
      "metadata": {
        "id": "B6TplIhZ3qRT"
      },
      "execution_count": 7,
      "outputs": []
    },
    {
      "cell_type": "code",
      "source": [
        "# Leer el archivo Excel con readxl\n",
        "library(readxl)\n",
        "data_PN_kmeans_personas <- read_excel(\"PERSONAS.xlsx\")"
      ],
      "metadata": {
        "id": "OFEln_uE7IsJ"
      },
      "execution_count": 8,
      "outputs": []
    },
    {
      "cell_type": "code",
      "source": [
        "# Ver las primeras filas de los datos\n",
        "head(data_PN_kmeans_personas)"
      ],
      "metadata": {
        "id": "57PJ5E4u7QXZ",
        "outputId": "e2d0c024-2c0b-4d9f-991b-7fca34bfc3e6",
        "colab": {
          "base_uri": "https://localhost:8080/",
          "height": 515
        }
      },
      "execution_count": 9,
      "outputs": [
        {
          "output_type": "display_data",
          "data": {
            "text/html": [
              "<table class=\"dataframe\">\n",
              "<caption>A tibble: 6 × 13</caption>\n",
              "<thead>\n",
              "\t<tr><th scope=col>NUM_DOCUMENTO</th><th scope=col>COD_CLIENTE</th><th scope=col>TIPO_DOC</th><th scope=col>DEPARAMENTO</th><th scope=col>NACIONALIDAD</th><th scope=col>RESIDENCIA</th><th scope=col>BANCA</th><th scope=col>ACT_ECONOMICA</th><th scope=col>EDAD</th><th scope=col>SALPRO_USD</th><th scope=col>ANTIGUEDAD_scale</th><th scope=col>SALPRO_USD_scale</th><th scope=col>SALPRO_USD_rango</th></tr>\n",
              "\t<tr><th scope=col>&lt;chr&gt;</th><th scope=col>&lt;dbl&gt;</th><th scope=col>&lt;chr&gt;</th><th scope=col>&lt;chr&gt;</th><th scope=col>&lt;chr&gt;</th><th scope=col>&lt;chr&gt;</th><th scope=col>&lt;chr&gt;</th><th scope=col>&lt;chr&gt;</th><th scope=col>&lt;dbl&gt;</th><th scope=col>&lt;dbl&gt;</th><th scope=col>&lt;chr&gt;</th><th scope=col>&lt;chr&gt;</th><th scope=col>&lt;chr&gt;</th></tr>\n",
              "</thead>\n",
              "<tbody>\n",
              "\t<tr><td>10062425</td><td> 30770</td><td>DNI</td><td>Lima</td><td>PERU</td><td>PE</td><td>PERSONAS</td><td>PERSONAS NATURALES Y GRUPO</td><td>50.00000</td><td>5000</td><td>0.25416414004576 </td><td>0.125077110948164</td><td>[5e+03,5e+04)</td></tr>\n",
              "\t<tr><td>08115739</td><td>165089</td><td>DNI</td><td>Lima</td><td>PERU</td><td>PE</td><td>PERSONAS</td><td>PERSONAS NATURALES Y GRUPO</td><td>57.00000</td><td>5000</td><td>0.754222453303004</td><td>0.125077110948164</td><td>[5e+03,5e+04)</td></tr>\n",
              "\t<tr><td>08646977</td><td>329862</td><td>DNI</td><td>Lima</td><td>PERU</td><td>PE</td><td>PERSONAS</td><td>PERSONAS NATURALES Y GRUPO</td><td>46.44212</td><td>5000</td><td>0                </td><td>0.125077110948164</td><td>[5e+03,5e+04)</td></tr>\n",
              "\t<tr><td>07515947</td><td>542277</td><td>DNI</td><td>Lima</td><td>PERU</td><td>PE</td><td>PERSONAS</td><td>PERSONAS NATURALES Y GRUPO</td><td>70.00000</td><td>5000</td><td>1.6829021779236  </td><td>0.125077110948164</td><td>[5e+03,5e+04)</td></tr>\n",
              "\t<tr><td>07606852</td><td>619685</td><td>DNI</td><td>Lima</td><td>PERU</td><td>PE</td><td>PERSONAS</td><td>PERSONAS NATURALES Y GRUPO</td><td>58.00000</td><td>5000</td><td>0.825659355196896</td><td>0.125077110948164</td><td>[5e+03,5e+04)</td></tr>\n",
              "\t<tr><td>06738619</td><td>781916</td><td>DNI</td><td>Lima</td><td>PERU</td><td>PE</td><td>PERSONAS</td><td>PERSONAS NATURALES Y GRUPO</td><td>64.00000</td><td>5000</td><td>1.25428076656025 </td><td>0.125077110948164</td><td>[5e+03,5e+04)</td></tr>\n",
              "</tbody>\n",
              "</table>\n"
            ],
            "text/markdown": "\nA tibble: 6 × 13\n\n| NUM_DOCUMENTO &lt;chr&gt; | COD_CLIENTE &lt;dbl&gt; | TIPO_DOC &lt;chr&gt; | DEPARAMENTO &lt;chr&gt; | NACIONALIDAD &lt;chr&gt; | RESIDENCIA &lt;chr&gt; | BANCA &lt;chr&gt; | ACT_ECONOMICA &lt;chr&gt; | EDAD &lt;dbl&gt; | SALPRO_USD &lt;dbl&gt; | ANTIGUEDAD_scale &lt;chr&gt; | SALPRO_USD_scale &lt;chr&gt; | SALPRO_USD_rango &lt;chr&gt; |\n|---|---|---|---|---|---|---|---|---|---|---|---|---|\n| 10062425 |  30770 | DNI | Lima | PERU | PE | PERSONAS | PERSONAS NATURALES Y GRUPO | 50.00000 | 5000 | 0.25416414004576  | 0.125077110948164 | [5e+03,5e+04) |\n| 08115739 | 165089 | DNI | Lima | PERU | PE | PERSONAS | PERSONAS NATURALES Y GRUPO | 57.00000 | 5000 | 0.754222453303004 | 0.125077110948164 | [5e+03,5e+04) |\n| 08646977 | 329862 | DNI | Lima | PERU | PE | PERSONAS | PERSONAS NATURALES Y GRUPO | 46.44212 | 5000 | 0                 | 0.125077110948164 | [5e+03,5e+04) |\n| 07515947 | 542277 | DNI | Lima | PERU | PE | PERSONAS | PERSONAS NATURALES Y GRUPO | 70.00000 | 5000 | 1.6829021779236   | 0.125077110948164 | [5e+03,5e+04) |\n| 07606852 | 619685 | DNI | Lima | PERU | PE | PERSONAS | PERSONAS NATURALES Y GRUPO | 58.00000 | 5000 | 0.825659355196896 | 0.125077110948164 | [5e+03,5e+04) |\n| 06738619 | 781916 | DNI | Lima | PERU | PE | PERSONAS | PERSONAS NATURALES Y GRUPO | 64.00000 | 5000 | 1.25428076656025  | 0.125077110948164 | [5e+03,5e+04) |\n\n",
            "text/latex": "A tibble: 6 × 13\n\\begin{tabular}{lllllllllllll}\n NUM\\_DOCUMENTO & COD\\_CLIENTE & TIPO\\_DOC & DEPARAMENTO & NACIONALIDAD & RESIDENCIA & BANCA & ACT\\_ECONOMICA & EDAD & SALPRO\\_USD & ANTIGUEDAD\\_scale & SALPRO\\_USD\\_scale & SALPRO\\_USD\\_rango\\\\\n <chr> & <dbl> & <chr> & <chr> & <chr> & <chr> & <chr> & <chr> & <dbl> & <dbl> & <chr> & <chr> & <chr>\\\\\n\\hline\n\t 10062425 &  30770 & DNI & Lima & PERU & PE & PERSONAS & PERSONAS NATURALES Y GRUPO & 50.00000 & 5000 & 0.25416414004576  & 0.125077110948164 & {[}5e+03,5e+04)\\\\\n\t 08115739 & 165089 & DNI & Lima & PERU & PE & PERSONAS & PERSONAS NATURALES Y GRUPO & 57.00000 & 5000 & 0.754222453303004 & 0.125077110948164 & {[}5e+03,5e+04)\\\\\n\t 08646977 & 329862 & DNI & Lima & PERU & PE & PERSONAS & PERSONAS NATURALES Y GRUPO & 46.44212 & 5000 & 0                 & 0.125077110948164 & {[}5e+03,5e+04)\\\\\n\t 07515947 & 542277 & DNI & Lima & PERU & PE & PERSONAS & PERSONAS NATURALES Y GRUPO & 70.00000 & 5000 & 1.6829021779236   & 0.125077110948164 & {[}5e+03,5e+04)\\\\\n\t 07606852 & 619685 & DNI & Lima & PERU & PE & PERSONAS & PERSONAS NATURALES Y GRUPO & 58.00000 & 5000 & 0.825659355196896 & 0.125077110948164 & {[}5e+03,5e+04)\\\\\n\t 06738619 & 781916 & DNI & Lima & PERU & PE & PERSONAS & PERSONAS NATURALES Y GRUPO & 64.00000 & 5000 & 1.25428076656025  & 0.125077110948164 & {[}5e+03,5e+04)\\\\\n\\end{tabular}\n",
            "text/plain": [
              "  NUM_DOCUMENTO COD_CLIENTE TIPO_DOC DEPARAMENTO NACIONALIDAD RESIDENCIA\n",
              "1 10062425       30770      DNI      Lima        PERU         PE        \n",
              "2 08115739      165089      DNI      Lima        PERU         PE        \n",
              "3 08646977      329862      DNI      Lima        PERU         PE        \n",
              "4 07515947      542277      DNI      Lima        PERU         PE        \n",
              "5 07606852      619685      DNI      Lima        PERU         PE        \n",
              "6 06738619      781916      DNI      Lima        PERU         PE        \n",
              "  BANCA    ACT_ECONOMICA              EDAD     SALPRO_USD ANTIGUEDAD_scale \n",
              "1 PERSONAS PERSONAS NATURALES Y GRUPO 50.00000 5000       0.25416414004576 \n",
              "2 PERSONAS PERSONAS NATURALES Y GRUPO 57.00000 5000       0.754222453303004\n",
              "3 PERSONAS PERSONAS NATURALES Y GRUPO 46.44212 5000       0                \n",
              "4 PERSONAS PERSONAS NATURALES Y GRUPO 70.00000 5000       1.6829021779236  \n",
              "5 PERSONAS PERSONAS NATURALES Y GRUPO 58.00000 5000       0.825659355196896\n",
              "6 PERSONAS PERSONAS NATURALES Y GRUPO 64.00000 5000       1.25428076656025 \n",
              "  SALPRO_USD_scale  SALPRO_USD_rango\n",
              "1 0.125077110948164 [5e+03,5e+04)   \n",
              "2 0.125077110948164 [5e+03,5e+04)   \n",
              "3 0.125077110948164 [5e+03,5e+04)   \n",
              "4 0.125077110948164 [5e+03,5e+04)   \n",
              "5 0.125077110948164 [5e+03,5e+04)   \n",
              "6 0.125077110948164 [5e+03,5e+04)   "
            ]
          },
          "metadata": {}
        }
      ]
    },
    {
      "cell_type": "code",
      "source": [
        "X1= data_PN_kmeans_personas [, 11:12]\n",
        "head(X1)"
      ],
      "metadata": {
        "id": "oN-2OYvx8iQZ",
        "outputId": "6e0314d0-9e99-46c7-c427-201acd742484",
        "colab": {
          "base_uri": "https://localhost:8080/",
          "height": 286
        }
      },
      "execution_count": 10,
      "outputs": [
        {
          "output_type": "display_data",
          "data": {
            "text/html": [
              "<table class=\"dataframe\">\n",
              "<caption>A tibble: 6 × 2</caption>\n",
              "<thead>\n",
              "\t<tr><th scope=col>ANTIGUEDAD_scale</th><th scope=col>SALPRO_USD_scale</th></tr>\n",
              "\t<tr><th scope=col>&lt;chr&gt;</th><th scope=col>&lt;chr&gt;</th></tr>\n",
              "</thead>\n",
              "<tbody>\n",
              "\t<tr><td>0.25416414004576 </td><td>0.125077110948164</td></tr>\n",
              "\t<tr><td>0.754222453303004</td><td>0.125077110948164</td></tr>\n",
              "\t<tr><td>0                </td><td>0.125077110948164</td></tr>\n",
              "\t<tr><td>1.6829021779236  </td><td>0.125077110948164</td></tr>\n",
              "\t<tr><td>0.825659355196896</td><td>0.125077110948164</td></tr>\n",
              "\t<tr><td>1.25428076656025 </td><td>0.125077110948164</td></tr>\n",
              "</tbody>\n",
              "</table>\n"
            ],
            "text/markdown": "\nA tibble: 6 × 2\n\n| ANTIGUEDAD_scale &lt;chr&gt; | SALPRO_USD_scale &lt;chr&gt; |\n|---|---|\n| 0.25416414004576  | 0.125077110948164 |\n| 0.754222453303004 | 0.125077110948164 |\n| 0                 | 0.125077110948164 |\n| 1.6829021779236   | 0.125077110948164 |\n| 0.825659355196896 | 0.125077110948164 |\n| 1.25428076656025  | 0.125077110948164 |\n\n",
            "text/latex": "A tibble: 6 × 2\n\\begin{tabular}{ll}\n ANTIGUEDAD\\_scale & SALPRO\\_USD\\_scale\\\\\n <chr> & <chr>\\\\\n\\hline\n\t 0.25416414004576  & 0.125077110948164\\\\\n\t 0.754222453303004 & 0.125077110948164\\\\\n\t 0                 & 0.125077110948164\\\\\n\t 1.6829021779236   & 0.125077110948164\\\\\n\t 0.825659355196896 & 0.125077110948164\\\\\n\t 1.25428076656025  & 0.125077110948164\\\\\n\\end{tabular}\n",
            "text/plain": [
              "  ANTIGUEDAD_scale  SALPRO_USD_scale \n",
              "1 0.25416414004576  0.125077110948164\n",
              "2 0.754222453303004 0.125077110948164\n",
              "3 0                 0.125077110948164\n",
              "4 1.6829021779236   0.125077110948164\n",
              "5 0.825659355196896 0.125077110948164\n",
              "6 1.25428076656025  0.125077110948164"
            ]
          },
          "metadata": {}
        }
      ]
    },
    {
      "cell_type": "code",
      "source": [
        "options(scipen = 999)\n",
        "#Indice de silueta: Hallar el valor optimo de  \"K\"(Clusters).\n",
        "# Instalar librerías necesarias si no están instaladas\n",
        "install.packages(\"cluster\")  # Para la función silhouette\n",
        "\n",
        "\n",
        "# Cargar librerías\n",
        "library(cluster)  # Para silhouette\n",
        "\n",
        "\n"
      ],
      "metadata": {
        "id": "pjnZonwK9kms",
        "outputId": "bfc36de7-3b09-4189-ad47-dd524a763221",
        "colab": {
          "base_uri": "https://localhost:8080/"
        }
      },
      "execution_count": 11,
      "outputs": [
        {
          "output_type": "stream",
          "name": "stderr",
          "text": [
            "Installing package into ‘/usr/local/lib/R/site-library’\n",
            "(as ‘lib’ is unspecified)\n",
            "\n"
          ]
        }
      ]
    },
    {
      "cell_type": "code",
      "source": [
        "# Datos de ejemplo: Asumimos que 'X1' ya está cargado y contiene los datos\n",
        "# Por ejemplo: X1 <- data.frame(matrix(rnorm(100), nrow=10))\n",
        "\n",
        "set.seed(123)\n",
        "\n",
        "# Probar diferentes valores de k (por ejemplo, de 2 a 15 clústeres)\n",
        "sil_values <- sapply(2:15, function(k) {\n",
        "  kmeans_result <- kmeans(X1, centers = k, iter.max = 1000, nstart = 25)\n",
        "  sil <- silhouette(kmeans_result$cluster, dist(X1))\n",
        "  mean(sil[, 3])  # Promedio del índice de silueta\n",
        "})\n",
        "\n"
      ],
      "metadata": {
        "id": "J1dY082x-2zW"
      },
      "execution_count": null,
      "outputs": []
    }
  ],
  "metadata": {
    "accelerator": "GPU",
    "colab": {
      "name": "google-colab-r.ipynb",
      "provenance": []
    },
    "kernelspec": {
      "display_name": "R",
      "language": "R",
      "name": "ir"
    },
    "language_info": {
      "codemirror_mode": "r",
      "file_extension": ".r",
      "mimetype": "text/x-r-source",
      "name": "R",
      "pygments_lexer": "r",
      "version": "3.6.3"
    },
    "toc": {
      "base_numbering": 1,
      "nav_menu": {},
      "number_sections": false,
      "sideBar": true,
      "skip_h1_title": false,
      "title_cell": "Table of Contents",
      "title_sidebar": "Contents",
      "toc_cell": false,
      "toc_position": {},
      "toc_section_display": true,
      "toc_window_display": false
    },
    "varInspector": {
      "cols": {
        "lenName": 16,
        "lenType": 16,
        "lenVar": 40
      },
      "kernels_config": {
        "python": {
          "delete_cmd_postfix": "",
          "delete_cmd_prefix": "del ",
          "library": "var_list.py",
          "varRefreshCmd": "print(var_dic_list())"
        },
        "r": {
          "delete_cmd_postfix": ") ",
          "delete_cmd_prefix": "rm(",
          "library": "var_list.r",
          "varRefreshCmd": "cat(var_dic_list()) "
        }
      },
      "types_to_exclude": [
        "module",
        "function",
        "builtin_function_or_method",
        "instance",
        "_Feature"
      ],
      "window_display": false
    }
  },
  "nbformat": 4,
  "nbformat_minor": 0
}