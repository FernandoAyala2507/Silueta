{
  "cells": [
    {
      "cell_type": "markdown",
      "metadata": {
        "id": "view-in-github",
        "colab_type": "text"
      },
      "source": [
        "<a href=\"https://colab.research.google.com/github/FernandoAyala2507/Silueta/blob/main/Codigo_R_PN.ipynb\" target=\"_parent\"><img src=\"https://colab.research.google.com/assets/colab-badge.svg\" alt=\"Open In Colab\"/></a>"
      ]
    },
    {
      "cell_type": "code",
      "source": [
        "# Asegúrate de copiar la URL \"raw\" correcta\n",
        "url <- \"https://github.com/FernandoAyala2507/Silueta/raw/refs/heads/main/PERSONAS.xlsx\"\n",
        "# Intentar descargar el archivo a tu entorno de Google Colab\n",
        "download.file(url, destfile = \"PERSONAS.xlsx\", mode = \"wb\")\n",
        "# Leer el archivo Excel con readxl\n",
        "install.packages(\"readxl\")\n",
        "library(readxl)\n",
        "data_PN_kmeans_personas <- read_excel(\"PERSONAS.xlsx\")\n",
        "# Ver las primeras filas de los datos\n",
        "head(data_PN_kmeans_personas)\n"
      ],
      "metadata": {
        "id": "jE2q9S04rOxN",
        "outputId": "9d8f2734-9ac2-4750-8530-3080fc23a607",
        "colab": {
          "base_uri": "https://localhost:8080/",
          "height": 569
        }
      },
      "execution_count": 1,
      "outputs": [
        {
          "output_type": "stream",
          "name": "stderr",
          "text": [
            "Installing package into ‘/usr/local/lib/R/site-library’\n",
            "(as ‘lib’ is unspecified)\n",
            "\n"
          ]
        },
        {
          "output_type": "display_data",
          "data": {
            "text/html": [
              "<table class=\"dataframe\">\n",
              "<caption>A tibble: 6 × 13</caption>\n",
              "<thead>\n",
              "\t<tr><th scope=col>NUM_DOCUMENTO</th><th scope=col>COD_CLIENTE</th><th scope=col>TIPO_DOC</th><th scope=col>DEPARAMENTO</th><th scope=col>NACIONALIDAD</th><th scope=col>RESIDENCIA</th><th scope=col>BANCA</th><th scope=col>ACT_ECONOMICA</th><th scope=col>EDAD</th><th scope=col>SALPRO_USD</th><th scope=col>ANTIGUEDAD_scale</th><th scope=col>SALPRO_USD_scale</th><th scope=col>SALPRO_USD_rango</th></tr>\n",
              "\t<tr><th scope=col>&lt;chr&gt;</th><th scope=col>&lt;dbl&gt;</th><th scope=col>&lt;chr&gt;</th><th scope=col>&lt;chr&gt;</th><th scope=col>&lt;chr&gt;</th><th scope=col>&lt;chr&gt;</th><th scope=col>&lt;chr&gt;</th><th scope=col>&lt;chr&gt;</th><th scope=col>&lt;dbl&gt;</th><th scope=col>&lt;dbl&gt;</th><th scope=col>&lt;chr&gt;</th><th scope=col>&lt;chr&gt;</th><th scope=col>&lt;chr&gt;</th></tr>\n",
              "</thead>\n",
              "<tbody>\n",
              "\t<tr><td>10062425</td><td> 30770</td><td>DNI</td><td>Lima</td><td>PERU</td><td>PE</td><td>PERSONAS</td><td>PERSONAS NATURALES Y GRUPO</td><td>50.00000</td><td>5000</td><td>0.25416414004576 </td><td>0.125077110948164</td><td>[5e+03,5e+04)</td></tr>\n",
              "\t<tr><td>08115739</td><td>165089</td><td>DNI</td><td>Lima</td><td>PERU</td><td>PE</td><td>PERSONAS</td><td>PERSONAS NATURALES Y GRUPO</td><td>57.00000</td><td>5000</td><td>0.754222453303004</td><td>0.125077110948164</td><td>[5e+03,5e+04)</td></tr>\n",
              "\t<tr><td>08646977</td><td>329862</td><td>DNI</td><td>Lima</td><td>PERU</td><td>PE</td><td>PERSONAS</td><td>PERSONAS NATURALES Y GRUPO</td><td>46.44212</td><td>5000</td><td>0                </td><td>0.125077110948164</td><td>[5e+03,5e+04)</td></tr>\n",
              "\t<tr><td>07515947</td><td>542277</td><td>DNI</td><td>Lima</td><td>PERU</td><td>PE</td><td>PERSONAS</td><td>PERSONAS NATURALES Y GRUPO</td><td>70.00000</td><td>5000</td><td>1.6829021779236  </td><td>0.125077110948164</td><td>[5e+03,5e+04)</td></tr>\n",
              "\t<tr><td>07606852</td><td>619685</td><td>DNI</td><td>Lima</td><td>PERU</td><td>PE</td><td>PERSONAS</td><td>PERSONAS NATURALES Y GRUPO</td><td>58.00000</td><td>5000</td><td>0.825659355196896</td><td>0.125077110948164</td><td>[5e+03,5e+04)</td></tr>\n",
              "\t<tr><td>06738619</td><td>781916</td><td>DNI</td><td>Lima</td><td>PERU</td><td>PE</td><td>PERSONAS</td><td>PERSONAS NATURALES Y GRUPO</td><td>64.00000</td><td>5000</td><td>1.25428076656025 </td><td>0.125077110948164</td><td>[5e+03,5e+04)</td></tr>\n",
              "</tbody>\n",
              "</table>\n"
            ],
            "text/markdown": "\nA tibble: 6 × 13\n\n| NUM_DOCUMENTO &lt;chr&gt; | COD_CLIENTE &lt;dbl&gt; | TIPO_DOC &lt;chr&gt; | DEPARAMENTO &lt;chr&gt; | NACIONALIDAD &lt;chr&gt; | RESIDENCIA &lt;chr&gt; | BANCA &lt;chr&gt; | ACT_ECONOMICA &lt;chr&gt; | EDAD &lt;dbl&gt; | SALPRO_USD &lt;dbl&gt; | ANTIGUEDAD_scale &lt;chr&gt; | SALPRO_USD_scale &lt;chr&gt; | SALPRO_USD_rango &lt;chr&gt; |\n|---|---|---|---|---|---|---|---|---|---|---|---|---|\n| 10062425 |  30770 | DNI | Lima | PERU | PE | PERSONAS | PERSONAS NATURALES Y GRUPO | 50.00000 | 5000 | 0.25416414004576  | 0.125077110948164 | [5e+03,5e+04) |\n| 08115739 | 165089 | DNI | Lima | PERU | PE | PERSONAS | PERSONAS NATURALES Y GRUPO | 57.00000 | 5000 | 0.754222453303004 | 0.125077110948164 | [5e+03,5e+04) |\n| 08646977 | 329862 | DNI | Lima | PERU | PE | PERSONAS | PERSONAS NATURALES Y GRUPO | 46.44212 | 5000 | 0                 | 0.125077110948164 | [5e+03,5e+04) |\n| 07515947 | 542277 | DNI | Lima | PERU | PE | PERSONAS | PERSONAS NATURALES Y GRUPO | 70.00000 | 5000 | 1.6829021779236   | 0.125077110948164 | [5e+03,5e+04) |\n| 07606852 | 619685 | DNI | Lima | PERU | PE | PERSONAS | PERSONAS NATURALES Y GRUPO | 58.00000 | 5000 | 0.825659355196896 | 0.125077110948164 | [5e+03,5e+04) |\n| 06738619 | 781916 | DNI | Lima | PERU | PE | PERSONAS | PERSONAS NATURALES Y GRUPO | 64.00000 | 5000 | 1.25428076656025  | 0.125077110948164 | [5e+03,5e+04) |\n\n",
            "text/latex": "A tibble: 6 × 13\n\\begin{tabular}{lllllllllllll}\n NUM\\_DOCUMENTO & COD\\_CLIENTE & TIPO\\_DOC & DEPARAMENTO & NACIONALIDAD & RESIDENCIA & BANCA & ACT\\_ECONOMICA & EDAD & SALPRO\\_USD & ANTIGUEDAD\\_scale & SALPRO\\_USD\\_scale & SALPRO\\_USD\\_rango\\\\\n <chr> & <dbl> & <chr> & <chr> & <chr> & <chr> & <chr> & <chr> & <dbl> & <dbl> & <chr> & <chr> & <chr>\\\\\n\\hline\n\t 10062425 &  30770 & DNI & Lima & PERU & PE & PERSONAS & PERSONAS NATURALES Y GRUPO & 50.00000 & 5000 & 0.25416414004576  & 0.125077110948164 & {[}5e+03,5e+04)\\\\\n\t 08115739 & 165089 & DNI & Lima & PERU & PE & PERSONAS & PERSONAS NATURALES Y GRUPO & 57.00000 & 5000 & 0.754222453303004 & 0.125077110948164 & {[}5e+03,5e+04)\\\\\n\t 08646977 & 329862 & DNI & Lima & PERU & PE & PERSONAS & PERSONAS NATURALES Y GRUPO & 46.44212 & 5000 & 0                 & 0.125077110948164 & {[}5e+03,5e+04)\\\\\n\t 07515947 & 542277 & DNI & Lima & PERU & PE & PERSONAS & PERSONAS NATURALES Y GRUPO & 70.00000 & 5000 & 1.6829021779236   & 0.125077110948164 & {[}5e+03,5e+04)\\\\\n\t 07606852 & 619685 & DNI & Lima & PERU & PE & PERSONAS & PERSONAS NATURALES Y GRUPO & 58.00000 & 5000 & 0.825659355196896 & 0.125077110948164 & {[}5e+03,5e+04)\\\\\n\t 06738619 & 781916 & DNI & Lima & PERU & PE & PERSONAS & PERSONAS NATURALES Y GRUPO & 64.00000 & 5000 & 1.25428076656025  & 0.125077110948164 & {[}5e+03,5e+04)\\\\\n\\end{tabular}\n",
            "text/plain": [
              "  NUM_DOCUMENTO COD_CLIENTE TIPO_DOC DEPARAMENTO NACIONALIDAD RESIDENCIA\n",
              "1 10062425       30770      DNI      Lima        PERU         PE        \n",
              "2 08115739      165089      DNI      Lima        PERU         PE        \n",
              "3 08646977      329862      DNI      Lima        PERU         PE        \n",
              "4 07515947      542277      DNI      Lima        PERU         PE        \n",
              "5 07606852      619685      DNI      Lima        PERU         PE        \n",
              "6 06738619      781916      DNI      Lima        PERU         PE        \n",
              "  BANCA    ACT_ECONOMICA              EDAD     SALPRO_USD ANTIGUEDAD_scale \n",
              "1 PERSONAS PERSONAS NATURALES Y GRUPO 50.00000 5000       0.25416414004576 \n",
              "2 PERSONAS PERSONAS NATURALES Y GRUPO 57.00000 5000       0.754222453303004\n",
              "3 PERSONAS PERSONAS NATURALES Y GRUPO 46.44212 5000       0                \n",
              "4 PERSONAS PERSONAS NATURALES Y GRUPO 70.00000 5000       1.6829021779236  \n",
              "5 PERSONAS PERSONAS NATURALES Y GRUPO 58.00000 5000       0.825659355196896\n",
              "6 PERSONAS PERSONAS NATURALES Y GRUPO 64.00000 5000       1.25428076656025 \n",
              "  SALPRO_USD_scale  SALPRO_USD_rango\n",
              "1 0.125077110948164 [5e+03,5e+04)   \n",
              "2 0.125077110948164 [5e+03,5e+04)   \n",
              "3 0.125077110948164 [5e+03,5e+04)   \n",
              "4 0.125077110948164 [5e+03,5e+04)   \n",
              "5 0.125077110948164 [5e+03,5e+04)   \n",
              "6 0.125077110948164 [5e+03,5e+04)   "
            ]
          },
          "metadata": {}
        }
      ]
    },
    {
      "cell_type": "code",
      "source": [
        "install.packages(\"cluster\")\n",
        "library(cluster)"
      ],
      "metadata": {
        "id": "rkoz-anwuSB1",
        "outputId": "6047bfce-7e26-411c-e5f4-90c306c4fa05",
        "colab": {
          "base_uri": "https://localhost:8080/"
        }
      },
      "execution_count": 3,
      "outputs": [
        {
          "output_type": "stream",
          "name": "stderr",
          "text": [
            "Installing package into ‘/usr/local/lib/R/site-library’\n",
            "(as ‘lib’ is unspecified)\n",
            "\n"
          ]
        }
      ]
    },
    {
      "cell_type": "code",
      "source": [
        "X1= data_PN_kmeans_personas [, 11:12]\n",
        "\n",
        "head(X1)\n",
        "\n",
        "options(scipen = 999)\n",
        "#Indice de silueta: Hallar el valor optimo de  \"K\"(Clusters).\n",
        "#----------------------------------------------------------------------------------------------------------------------\n",
        "# Clusters para personas\n",
        "set.seed(123)\n",
        "\n",
        "# Probar diferentes valores de k (por ejemplo, de 2 a 15 clústeres)\n",
        "sil_values <- sapply(2:15, function(k){\n",
        "  kmeans_result <- kmeans(X1, centers = k,iter.max = 1000,nstart = 25)\n",
        "  sil <- silhouette(kmeans_result$cluster, dist(X1))\n",
        "  mean(sil[, 3])  # Promedio del índice de silueta\n",
        "})\n"
      ],
      "metadata": {
        "id": "5Q2FpZFsuHFC",
        "outputId": "2e8955e7-0441-4c1a-dc59-ef9b29bb9ea1",
        "colab": {
          "base_uri": "https://localhost:8080/",
          "height": 431
        }
      },
      "execution_count": 4,
      "outputs": [
        {
          "output_type": "display_data",
          "data": {
            "text/html": [
              "<table class=\"dataframe\">\n",
              "<caption>A tibble: 6 × 2</caption>\n",
              "<thead>\n",
              "\t<tr><th scope=col>ANTIGUEDAD_scale</th><th scope=col>SALPRO_USD_scale</th></tr>\n",
              "\t<tr><th scope=col>&lt;chr&gt;</th><th scope=col>&lt;chr&gt;</th></tr>\n",
              "</thead>\n",
              "<tbody>\n",
              "\t<tr><td>0.25416414004576 </td><td>0.125077110948164</td></tr>\n",
              "\t<tr><td>0.754222453303004</td><td>0.125077110948164</td></tr>\n",
              "\t<tr><td>0                </td><td>0.125077110948164</td></tr>\n",
              "\t<tr><td>1.6829021779236  </td><td>0.125077110948164</td></tr>\n",
              "\t<tr><td>0.825659355196896</td><td>0.125077110948164</td></tr>\n",
              "\t<tr><td>1.25428076656025 </td><td>0.125077110948164</td></tr>\n",
              "</tbody>\n",
              "</table>\n"
            ],
            "text/markdown": "\nA tibble: 6 × 2\n\n| ANTIGUEDAD_scale &lt;chr&gt; | SALPRO_USD_scale &lt;chr&gt; |\n|---|---|\n| 0.25416414004576  | 0.125077110948164 |\n| 0.754222453303004 | 0.125077110948164 |\n| 0                 | 0.125077110948164 |\n| 1.6829021779236   | 0.125077110948164 |\n| 0.825659355196896 | 0.125077110948164 |\n| 1.25428076656025  | 0.125077110948164 |\n\n",
            "text/latex": "A tibble: 6 × 2\n\\begin{tabular}{ll}\n ANTIGUEDAD\\_scale & SALPRO\\_USD\\_scale\\\\\n <chr> & <chr>\\\\\n\\hline\n\t 0.25416414004576  & 0.125077110948164\\\\\n\t 0.754222453303004 & 0.125077110948164\\\\\n\t 0                 & 0.125077110948164\\\\\n\t 1.6829021779236   & 0.125077110948164\\\\\n\t 0.825659355196896 & 0.125077110948164\\\\\n\t 1.25428076656025  & 0.125077110948164\\\\\n\\end{tabular}\n",
            "text/plain": [
              "  ANTIGUEDAD_scale  SALPRO_USD_scale \n",
              "1 0.25416414004576  0.125077110948164\n",
              "2 0.754222453303004 0.125077110948164\n",
              "3 0                 0.125077110948164\n",
              "4 1.6829021779236   0.125077110948164\n",
              "5 0.825659355196896 0.125077110948164\n",
              "6 1.25428076656025  0.125077110948164"
            ]
          },
          "metadata": {}
        },
        {
          "output_type": "stream",
          "name": "stderr",
          "text": [
            "Warning message:\n",
            "“Quick-TRANSfer stage steps exceeded maximum (= 3226400)”\n",
            "Warning message:\n",
            "“Quick-TRANSfer stage steps exceeded maximum (= 3226400)”\n",
            "Warning message:\n",
            "“Quick-TRANSfer stage steps exceeded maximum (= 3226400)”\n",
            "Warning message:\n",
            "“Quick-TRANSfer stage steps exceeded maximum (= 3226400)”\n"
          ]
        }
      ]
    },
    {
      "cell_type": "code",
      "source": [
        "\n",
        "install.packages(\"ggplot2\")  # Solo si quieres usar ggplot2\n",
        "library(ggplot2)  # Solo si lo necesitas"
      ],
      "metadata": {
        "id": "YVFUvAsz0rDE",
        "outputId": "be0271c5-adca-44a6-924e-cf3634f70e05",
        "colab": {
          "base_uri": "https://localhost:8080/"
        }
      },
      "execution_count": 8,
      "outputs": [
        {
          "output_type": "stream",
          "name": "stderr",
          "text": [
            "Installing package into ‘/usr/local/lib/R/site-library’\n",
            "(as ‘lib’ is unspecified)\n",
            "\n"
          ]
        }
      ]
    },
    {
      "cell_type": "code",
      "source": [
        "set.seed(123)\n",
        "sil_values <- sapply(1:15, function(k) {\n",
        "  tryCatch({\n",
        "    kmeans_result <- kmeans(X1, centers = k, iter.max = 10000, nstart = 25)\n",
        "    sil <- silhouette(kmeans_result$cluster, dist(X1))\n",
        "    mean(sil[, 3])  # Promedio del índice de silueta\n",
        "  }, warning = function(w) {\n",
        "    cat(\"Warning for k =\", k, \": \", conditionMessage(w), \"\\n\")\n",
        "    return(NA)  # Devuelve NA si hay una advertencia\n",
        "  }, error = function(e) {\n",
        "    cat(\"Error for k =\", k, \": \", conditionMessage(e), \"\\n\")\n",
        "    return(NA)  # Devuelve NA si hay un error\n",
        "  })\n",
        "})\n"
      ],
      "metadata": {
        "id": "tdSxBfCZ19QG",
        "outputId": "f014641a-4717-4c85-909f-b0b038bbc008",
        "colab": {
          "base_uri": "https://localhost:8080/"
        }
      },
      "execution_count": 9,
      "outputs": [
        {
          "output_type": "stream",
          "name": "stdout",
          "text": [
            "Warning for k = 8 :  Quick-TRANSfer stage steps exceeded maximum (= 3226400) \n",
            "Warning for k = 9 :  Quick-TRANSfer stage steps exceeded maximum (= 3226400) \n",
            "Warning for k = 11 :  Quick-TRANSfer stage steps exceeded maximum (= 3226400) \n",
            "Warning for k = 13 :  Quick-TRANSfer stage steps exceeded maximum (= 3226400) \n",
            "Warning for k = 14 :  Quick-TRANSfer stage steps exceeded maximum (= 3226400) \n",
            "Warning for k = 15 :  Quick-TRANSfer stage steps exceeded maximum (= 3226400) \n"
          ]
        }
      ]
    },
    {
      "cell_type": "code",
      "source": [
        "# Visualizar los resultados\n",
        "plot(2:15, sil_values, type = \"b\", pch = 19,\n",
        "     xlab = \"Número de Clústeres\", ylab = \"Índice de Silueta\",\n",
        "     main = \"Evaluación del Número de Clústeres con el Índice de Silueta\")"
      ],
      "metadata": {
        "id": "zNZb0KOf4Tnx",
        "outputId": "3a4869cf-8a06-47ef-dfd0-b38151df2e6c",
        "colab": {
          "base_uri": "https://localhost:8080/",
          "height": 437
        }
      },
      "execution_count": 10,
      "outputs": [
        {
          "output_type": "display_data",
          "data": {
            "text/plain": [
              "Plot with title “Evaluación del Número de Clústeres con el Índice de Silueta”"
            ],
            "image/png": "[encoded data removed]"
          },
          "metadata": {
            "image/png": {
              "width": 420,
              "height": 420
            }
          }
        }
      ]
    }
  ],
  "metadata": {
    "colab": {
      "name": "Saca el máximo partido de tu suscripción a Colab",
      "provenance": [],
      "machine_shape": "hm",
      "include_colab_link": true
    },
    "kernelspec": {
      "display_name": "R",
      "name": "ir"
    },
    "language_info": {
      "name": "R"
    }
  },
  "nbformat": 4,
  "nbformat_minor": 0
}